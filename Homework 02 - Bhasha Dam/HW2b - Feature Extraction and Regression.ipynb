{
 "cells": [
  {
   "cell_type": "markdown",
   "metadata": {},
   "source": [
    "# Homework 2b - Feature Extraction and Regression"
   ]
  },
  {
   "cell_type": "markdown",
   "metadata": {},
   "source": [
    "In this part of the homework we'll be looking at the same dataset except in a completely different light. We'll move beyond simply analysing the data and will instead move towards trying to make some inferences regarding the data - predictions on when the dam's target value of (the minimum estimate) 1.5 Trillion rupees will be reached. Use the same set-up as part a"
   ]
  },
  {
   "cell_type": "code",
   "execution_count": 1,
   "metadata": {},
   "outputs": [],
   "source": [
    "import numpy as np\n",
    "import pandas as pd\n",
    "import matplotlib.pyplot as plt\n",
    "import seaborn as sns\n",
    "sns.set()\n",
    "\n",
    "data = pd.read_pickle('./individual_contributions.pkl')\n"
   ]
  },
  {
   "cell_type": "markdown",
   "metadata": {},
   "source": [
    "We'll be running a regression analysis on this data since the target variable, the funds collected, is a continuous variable. Before we are able to run any sort of regression we need to decide what features we should be using for our regression. Moreover, since we are running a regression it is important to also figure out what exactly our target variable should be. Should it be the **cumulative sum** of the amount collected **till** each day, or should it simply be the amount collected **on** each day? Whatever you decide, write code below to get that target variable. \n",
    "\n",
    "Hint: Using groupby on \"Date\" would be a good option."
   ]
  },
  {
   "cell_type": "code",
   "execution_count": 2,
   "metadata": {},
   "outputs": [
    {
     "data": {
      "text/html": [
       "<div>\n",
       "<style scoped>\n",
       "    .dataframe tbody tr th:only-of-type {\n",
       "        vertical-align: middle;\n",
       "    }\n",
       "\n",
       "    .dataframe tbody tr th {\n",
       "        vertical-align: top;\n",
       "    }\n",
       "\n",
       "    .dataframe thead th {\n",
       "        text-align: right;\n",
       "    }\n",
       "</style>\n",
       "<table border=\"1\" class=\"dataframe\">\n",
       "  <thead>\n",
       "    <tr style=\"text-align: right;\">\n",
       "      <th></th>\n",
       "      <th>Amount</th>\n",
       "    </tr>\n",
       "    <tr>\n",
       "      <th>Date</th>\n",
       "      <th></th>\n",
       "    </tr>\n",
       "  </thead>\n",
       "  <tbody>\n",
       "    <tr>\n",
       "      <th>2018-07-06</th>\n",
       "      <td>2402300.00</td>\n",
       "    </tr>\n",
       "    <tr>\n",
       "      <th>2018-07-09</th>\n",
       "      <td>3748561.00</td>\n",
       "    </tr>\n",
       "    <tr>\n",
       "      <th>2018-07-10</th>\n",
       "      <td>9123202.00</td>\n",
       "    </tr>\n",
       "    <tr>\n",
       "      <th>2018-07-11</th>\n",
       "      <td>33953222.00</td>\n",
       "    </tr>\n",
       "    <tr>\n",
       "      <th>2018-07-12</th>\n",
       "      <td>63128042.91</td>\n",
       "    </tr>\n",
       "  </tbody>\n",
       "</table>\n",
       "</div>"
      ],
      "text/plain": [
       "                 Amount\n",
       "Date                   \n",
       "2018-07-06   2402300.00\n",
       "2018-07-09   3748561.00\n",
       "2018-07-10   9123202.00\n",
       "2018-07-11  33953222.00\n",
       "2018-07-12  63128042.91"
      ]
     },
     "execution_count": 2,
     "metadata": {},
     "output_type": "execute_result"
    }
   ],
   "source": [
    "# Code to calculate the target variable\n",
    "cumulative_totals = data.groupby(['Date']).sum()\n",
    "#print (cum_totals.head())\n",
    "cumulative_totals= cumulative_totals.cumsum()\n",
    "cumulative_totals.head()"
   ]
  },
  {
   "cell_type": "markdown",
   "metadata": {},
   "source": [
    "## Part B: Feature Extraction (20)"
   ]
  },
  {
   "cell_type": "markdown",
   "metadata": {},
   "source": [
    "You currently have 3 columns, other than the target variable (Amount), Bank, Name and Date. Which do you think should be used as the independent variable in running the regression? "
   ]
  },
  {
   "cell_type": "markdown",
   "metadata": {},
   "source": [
    "Ans:\n",
    "Date can be used to collect information in realistic manner. Date, day, month have valid values which give us kind of realization in data. Further, name, bank have no useful interpretation in context of our given data analysis."
   ]
  },
  {
   "cell_type": "markdown",
   "metadata": {},
   "source": [
    "One possible variable we could use is the Date variable, but it can not be used directly since it is a 'Datetime' object. Read up more on Linear Regression on the [sklearn Documentation page](http://scikit-learn.org/stable/modules/generated/sklearn.linear_model.LinearRegression.html#sklearn.linear_model.LinearRegression) to know about what sort of independent variables must be sent to it.\n",
    "\n",
    "There are many different ways you can extract the right features from just the datetime column. Some useful in-built functions include the sklearn library's [LabelEncoder](http://scikit-learn.org/dev/modules/generated/sklearn.preprocessing.LabelEncoder.html#sklearn.preprocessing.LabelEncoder), the [OneHotEncoder](http://scikit-learn.org/dev/modules/generated/sklearn.preprocessing.OneHotEncoder.html#sklearn.preprocessing.OneHotEncoder) and the [OrdinalEncoder](http://scikit-learn.org/dev/modules/generated/sklearn.preprocessing.OrdinalEncoder.html#sklearn.preprocessing.OrdinalEncoder).\n",
    "\n",
    "You need to think deeply about what sort of variables can be extracted from simply \"Date\", and how they would be useful in trying to figure out how many funds are being collected on any given day. One good way to go about it would be to try out the regression on many different features and see which one is better."
   ]
  },
  {
   "cell_type": "code",
   "execution_count": 4,
   "metadata": {},
   "outputs": [
    {
     "name": "stdout",
     "output_type": "stream",
     "text": [
      "             Date  Day_int  Month_int  Date_int\n",
      "93342  2018-07-06        4          7         6\n",
      "10334  2018-07-09        0          7         9\n",
      "65496  2018-07-10        1          7        10\n",
      "127344 2018-07-11        2          7        11\n",
      "93348  2018-07-12        3          7        12\n"
     ]
    }
   ],
   "source": [
    "# Import the appropriate functions from sklearn #\n",
    "from sklearn import preprocessing\n",
    "encoder = preprocessing.LabelEncoder()\n",
    "# Extract the right features #\n",
    "# An example of one feature that could be extracted is given below #\n",
    "\n",
    "data['Day_int'] = data['Date'].dt.dayofweek\n",
    "data['Month_int'] = data['Date'].dt.month\n",
    "data['Date_int'] = data['Date'].dt.day\n",
    "\n",
    "\n",
    "#data = data.drop_duplicates()\n",
    "\n",
    "unique_feature = data.drop(columns = ['Name','Bank', 'Amount'])\n",
    "unique_feature = unique_feature.drop_duplicates()\n",
    "#unique_dates = unique_dates.groupby(['Date'])\n",
    "\n",
    "#unique_dates.drop_duplicates\n",
    "\n",
    "unique_feature = unique_feature.sort_values(by= [\"Date\"])\n",
    "print (unique_feature.head())\n",
    "#dates = data['Date']\n",
    "#dates = sorted(dates)\n",
    "#print (dates)\n",
    "#encoder.fit(dates)\n",
    "#encoder.classes_\n",
    "\n",
    "#data['Day_LabelEncoder'] = encoder.transform(dates)\n",
    "#dates = data['Day_LabelEncoder'].unique()\n",
    "#dates = sorted(dates)\n",
    "#print (dates)\n",
    "\n",
    "# This finds what day of the week it is from the datetime object where 0 is Monday and 6 is Sunday\n",
    "# print(data)\n",
    "\n",
    "#print(data.loc[data['Date'] == '2018-09-10'])\n",
    "# Print the entire dataframe.head() with the extracted features at the end of this cell #\n",
    "#print (data.head())"
   ]
  },
  {
   "cell_type": "markdown",
   "metadata": {},
   "source": [
    "## Part C: Regression and Evaluation (40)"
   ]
  },
  {
   "cell_type": "markdown",
   "metadata": {},
   "source": [
    "From here onwards, how exactly you structure your code is upto you, and the main goal is this: You want to choose a regression model from one of the many [linear_models](http://scikit-learn.org/stable/modules/classes.html#module-sklearn.linear_model) available on sklearn. If you're feeling adventurous you can try using [Support Vector Regression](http://scikit-learn.org/stable/modules/generated/sklearn.svm.SVR.html) as well, but unless you guys take out the time to understand how Support Vector Machines work, and why they might not be the best idea for such a dataset, it will not be a fruitful exercise.\n",
    "\n",
    "You need to learn how to evaluate your model. Every sklearn regression model has a built in function that can calculate the regression score for you (as done before), and the sklearn [Mean Squared Error](http://scikit-learn.org/stable/modules/generated/sklearn.metrics.mean_squared_error.html) function will be used to calculate the error in your test-set and your train-set. In most cases you will use either a custom function to split the dataset into a train-test set, or use the [train-test-split](http://scikit-learn.org/stable/modules/generated/sklearn.model_selection.train_test_split.html) function. Another extremely useful tool is [KFold cross-validation](http://scikit-learn.org/stable/modules/generated/sklearn.model_selection.KFold.html). Research on cross-validation and why it is such an effective way to evaluate your Machine Learning models.\n",
    "\n",
    "For the purpose of this assignment, the final values will be of the regression being **trained and tested on the entire dataset**. And the following results will be looked at (print these values clearly!):\n",
    "1. Regression Score \n",
    "2. Mean Squared Error (Expect this to be really high, since the values of the data-set are also high)\n",
    "3. The Regression Line that you get from the linear-models (either from the coefficients or from the predictions) over the data-points (I will upload a sample on Piazza)\n",
    "\n",
    "**Lastly**, after you have trained your model, you need to build a mock data-set containing just the datetime objects. A good function to use is [python.date_range](https://pandas.pydata.org/pandas-docs/stable/generated/pandas.date_range.html) that allows you to get a DateTimeIndex of whatever Date and Frequency you chose (the frequency is an extremely important parameter). You can convert that DateTimeIndex to a DataFrame and then extract the same features as you did in the previous part (making a function for feature extraction is a good idea). After that you need to print the exact **Month and Year that the 1.5 Trillion Rs target will be reached according to your regression.**\n",
    "\n",
    "**This is an iterative process and you will have to play around with the features, the model and parameters of the regression many times before you reach a good result**"
   ]
  },
  {
   "cell_type": "code",
   "execution_count": 8,
   "metadata": {},
   "outputs": [
    {
     "name": "stdout",
     "output_type": "stream",
     "text": [
      "-0.025891169886951056\n"
     ]
    }
   ],
   "source": [
    "from sklearn.linear_model import LinearRegression, HuberRegressor\n",
    "from sklearn.model_selection import KFold\n",
    "from sklearn.model_selection import train_test_split\n",
    "\n",
    "X =  \n",
    "pd.DataFrame(unique_feature['Date_int'])\n",
    "y = cumulative_totals['Amount']\n",
    "\n",
    "X_train, X_test, y_train, y_test = train_test_split(X, y, test_size=0.33, random_state=42)\n",
    "\n",
    "#kf = kFold(n_splits=3)\n",
    "\n",
    "\n",
    "#Huber = HuberRegressor(X,y)\n",
    "#Huber.fit(X,y)\n",
    "#print (Huber.score(X,y))\n",
    "\n",
    "reg_TimeOfMonth = LinearRegression()\n",
    "reg_TimeOfMonth.fit(X_train,y_train)\n",
    "\n",
    "print(reg_TimeOfMonth.score(X_test, y_test))"
   ]
  },
  {
   "cell_type": "markdown",
   "metadata": {},
   "source": [
    "#### What do you think the limitations of your regression were? What problems did you face in not being able to get a good fit?"
   ]
  },
  {
   "cell_type": "code",
   "execution_count": null,
   "metadata": {},
   "outputs": [],
   "source": []
  }
 ],
 "metadata": {
  "kernelspec": {
   "display_name": "Python 3",
   "language": "python",
   "name": "python3"
  },
  "language_info": {
   "codemirror_mode": {
    "name": "ipython",
    "version": 3
   },
   "file_extension": ".py",
   "mimetype": "text/x-python",
   "name": "python",
   "nbconvert_exporter": "python",
   "pygments_lexer": "ipython3",
   "version": "3.6.6"
  }
 },
 "nbformat": 4,
 "nbformat_minor": 2
}
