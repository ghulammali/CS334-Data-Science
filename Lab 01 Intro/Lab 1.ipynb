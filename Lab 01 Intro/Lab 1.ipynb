{
 "cells": [
  {
   "cell_type": "markdown",
   "metadata": {},
   "source": [
    "Before we get started, a couple of reminders to keep in mind when using iPython notebooks:\n",
    "\n",
    "- Remember that you can see from the left side of a code cell when it was last run if there is a number within the brackets.\n",
    "- When you start a new notebook session, make sure you run all of the cells up to the point where you last left off. Even if the output is still visible from when you ran the cells in your previous session, the kernel starts in a fresh state so you'll need to reload the data, etc. on a new session.\n",
    "- The previous point is useful to keep in mind if your answers do not match what is expected in the lesson's quizzes. Try reloading the data and run all of the processing steps one by one in order to make sure that you are working with the same variables and data that are at each quiz stage.\n",
    "\n",
    "\n",
    "## Load Data from CSVs"
   ]
  },
  {
   "cell_type": "code",
   "execution_count": 1,
   "metadata": {},
   "outputs": [
    {
     "name": "stdout",
     "output_type": "stream",
     "text": [
      "{u'status': u'canceled', u'is_udacity': u'True', u'is_canceled': u'True', u'join_date': u'2014-11-10', u'account_key': u'448', u'cancel_date': u'2015-01-14', u'days_to_cancel': u'65'}\n"
     ]
    }
   ],
   "source": [
    "import unicodecsv\n",
    "\n",
    "## Longer version of code (replaced with shorter, equivalent version below)\n",
    "\n",
    "# enrollments = []\n",
    "# f = open('enrollments.csv', 'rb')\n",
    "# reader = unicodecsv.DictReader(f)\n",
    "# for row in reader:\n",
    "#     enrollments.append(row)\n",
    "# f.close()\n",
    "\n",
    "with open('enrollments.csv', 'rb') as f:\n",
    "    reader = unicodecsv.DictReader(f)\n",
    "    enrollments = list(reader)\n",
    "    \n",
    "print enrollments[0]"
   ]
  },
  {
   "cell_type": "code",
   "execution_count": 2,
   "metadata": {
    "scrolled": true
   },
   "outputs": [
    {
     "name": "stdout",
     "output_type": "stream",
     "text": [
      "{u'lessons_completed': u'0.0', u'num_courses_visited': u'1.0', u'total_minutes_visited': u'11.6793745', u'projects_completed': u'0.0', u'acct': u'0', u'utc_date': u'2015-01-09'}\n",
      "{u'lesson_key': u'3176718735', u'processing_state': u'EVALUATED', u'account_key': u'256', u'assigned_rating': u'UNGRADED', u'completion_date': u'2015-01-16', u'creation_date': u'2015-01-14'}\n"
     ]
    }
   ],
   "source": [
    "#####################################\n",
    "#                 1                 #\n",
    "#####################################\n",
    "\n",
    "## Read in the data from daily_engagement.csv and project_submissions.csv \n",
    "## and store the results in the below variables.\n",
    "## Then look at the first row of each table.\n",
    "\n",
    "with open('daily_engagement.csv', 'rb') as e:\n",
    "    reader = unicodecsv.DictReader(e)\n",
    "    daily_engagement = list(reader)\n",
    "\n",
    "print daily_engagement[0]\n",
    "\n",
    "with open('project_submissions.csv', 'rb') as s:\n",
    "    reader = unicodecsv.DictReader(s)\n",
    "    project_submissions = list(reader)\n",
    "\n",
    "print project_submissions[0] "
   ]
  },
  {
   "cell_type": "markdown",
   "metadata": {},
   "source": [
    "## Fixing Data Types"
   ]
  },
  {
   "cell_type": "code",
   "execution_count": 3,
   "metadata": {},
   "outputs": [
    {
     "data": {
      "text/plain": [
       "{u'account_key': u'448',\n",
       " u'cancel_date': datetime.datetime(2015, 1, 14, 0, 0),\n",
       " u'days_to_cancel': 65,\n",
       " u'is_canceled': True,\n",
       " u'is_udacity': True,\n",
       " u'join_date': datetime.datetime(2014, 11, 10, 0, 0),\n",
       " u'status': u'canceled'}"
      ]
     },
     "execution_count": 3,
     "metadata": {},
     "output_type": "execute_result"
    }
   ],
   "source": [
    "from datetime import datetime as dt\n",
    "\n",
    "# Takes a date as a string, and returns a Python datetime object. \n",
    "# If there is no date given, returns None\n",
    "def parse_date(date):\n",
    "    if date == '':\n",
    "        return None\n",
    "    else:\n",
    "        return dt.strptime(date, '%Y-%m-%d')\n",
    "    \n",
    "# Takes a string which is either an empty string or represents an integer,\n",
    "# and returns an int or None.\n",
    "def parse_maybe_int(i):\n",
    "    if i == '':\n",
    "        return None\n",
    "    else:\n",
    "        return int(i)\n",
    "\n",
    "# Clean up the data types in the enrollments table\n",
    "for enrollment in enrollments:\n",
    "    enrollment['cancel_date'] = parse_date(enrollment['cancel_date'])\n",
    "    enrollment['days_to_cancel'] = parse_maybe_int(enrollment['days_to_cancel'])\n",
    "    enrollment['is_canceled'] = enrollment['is_canceled'] == 'True'\n",
    "    enrollment['is_udacity'] = enrollment['is_udacity'] == 'True'\n",
    "    enrollment['join_date'] = parse_date(enrollment['join_date'])\n",
    "    \n",
    "enrollments[0]"
   ]
  },
  {
   "cell_type": "code",
   "execution_count": 4,
   "metadata": {},
   "outputs": [
    {
     "data": {
      "text/plain": [
       "{u'acct': u'0',\n",
       " u'lessons_completed': 0,\n",
       " u'num_courses_visited': 1,\n",
       " u'projects_completed': 0,\n",
       " u'total_minutes_visited': 11.6793745,\n",
       " u'utc_date': datetime.datetime(2015, 1, 9, 0, 0)}"
      ]
     },
     "execution_count": 4,
     "metadata": {},
     "output_type": "execute_result"
    }
   ],
   "source": [
    "# Clean up the data types in the engagement table\n",
    "for engagement_record in daily_engagement:\n",
    "    engagement_record['lessons_completed'] = int(float(engagement_record['lessons_completed']))\n",
    "    engagement_record['num_courses_visited'] = int(float(engagement_record['num_courses_visited']))\n",
    "    engagement_record['projects_completed'] = int(float(engagement_record['projects_completed']))\n",
    "    engagement_record['total_minutes_visited'] = float(engagement_record['total_minutes_visited'])\n",
    "    engagement_record['utc_date'] = parse_date(engagement_record['utc_date'])\n",
    "    \n",
    "daily_engagement[0]"
   ]
  },
  {
   "cell_type": "code",
   "execution_count": 5,
   "metadata": {},
   "outputs": [
    {
     "data": {
      "text/plain": [
       "{u'account_key': u'256',\n",
       " u'assigned_rating': u'UNGRADED',\n",
       " u'completion_date': datetime.datetime(2015, 1, 16, 0, 0),\n",
       " u'creation_date': datetime.datetime(2015, 1, 14, 0, 0),\n",
       " u'lesson_key': u'3176718735',\n",
       " u'processing_state': u'EVALUATED'}"
      ]
     },
     "execution_count": 5,
     "metadata": {},
     "output_type": "execute_result"
    }
   ],
   "source": [
    "# Clean up the data types in the submissions table\n",
    "for submission in project_submissions:\n",
    "    submission['completion_date'] = parse_date(submission['completion_date'])\n",
    "    submission['creation_date'] = parse_date(submission['creation_date'])\n",
    "\n",
    "project_submissions[0]"
   ]
  },
  {
   "cell_type": "markdown",
   "metadata": {},
   "source": [
    "Note when running the above cells that we are actively changing the contents of our data variables. If you try to run these cells multiple times in the same session, an error will occur.\n",
    "\n",
    "## Investigating the Data"
   ]
  },
  {
   "cell_type": "code",
   "execution_count": 6,
   "metadata": {},
   "outputs": [
    {
     "name": "stdout",
     "output_type": "stream",
     "text": [
      "1640\n",
      "1302\n",
      "136240\n",
      "1237\n",
      "3642\n",
      "743\n"
     ]
    }
   ],
   "source": [
    "#####################################\n",
    "#                 2                 #\n",
    "#####################################\n",
    "\n",
    "## Find the total number of rows and the number of unique students (account keys)\n",
    "## in each table.\n",
    "\n",
    "## For enrollment\n",
    "rows_enroll = len(enrollments)\n",
    "print rows_enroll\n",
    "unique_enroll = set()\n",
    "for index in enrollments:\n",
    "    unique_enroll.add(index['account_key'])  \n",
    "print len(unique_enroll)\n",
    "\n",
    "## For daily_engagement\n",
    "rows_engage = len(daily_engagement)\n",
    "print rows_engage\n",
    "unique_engage = set()\n",
    "for index in daily_engagement:\n",
    "    unique_engage.add(index['acct'])\n",
    "print len(unique_engage)\n",
    "\n",
    "## For project_submissions\n",
    "rows_proj = len(project_submissions)\n",
    "print rows_proj\n",
    "unique_proj = set()\n",
    "for index in project_submissions:\n",
    "    unique_proj.add(index['account_key'])   \n",
    "print len(unique_proj)"
   ]
  },
  {
   "cell_type": "markdown",
   "metadata": {},
   "source": [
    "## Problems in the Data"
   ]
  },
  {
   "cell_type": "code",
   "execution_count": 7,
   "metadata": {},
   "outputs": [
    {
     "name": "stdout",
     "output_type": "stream",
     "text": [
      "{u'lessons_completed': 0, u'num_courses_visited': 1, u'total_minutes_visited': 11.6793745, u'projects_completed': 0, 'account_key': u'0', u'utc_date': datetime.datetime(2015, 1, 9, 0, 0)}\n"
     ]
    }
   ],
   "source": [
    "#####################################\n",
    "#                 3                 #\n",
    "#####################################\n",
    "\n",
    "## Rename the \"acct\" column in the daily_engagement table to \"account_key\".\n",
    "for entry in daily_engagement:\n",
    "    entry['account_key'] = entry['acct']\n",
    "    del [entry['acct']]\n",
    "\n",
    "print daily_engagement[0] "
   ]
  },
  {
   "cell_type": "markdown",
   "metadata": {},
   "source": [
    "## Missing Engagement Records"
   ]
  },
  {
   "cell_type": "code",
   "execution_count": 8,
   "metadata": {},
   "outputs": [
    {
     "name": "stdout",
     "output_type": "stream",
     "text": [
      "{u'status': u'canceled', u'is_udacity': False, u'is_canceled': True, u'join_date': datetime.datetime(2014, 11, 12, 0, 0), u'account_key': u'1219', u'cancel_date': datetime.datetime(2014, 11, 12, 0, 0), u'days_to_cancel': 0}\n"
     ]
    }
   ],
   "source": [
    "#####################################\n",
    "#                 4                 #\n",
    "#####################################\n",
    "\n",
    "## Find any one student enrollments where the student is missing from the daily engagement table.\n",
    "## Output that enrollment.\n",
    "for index in enrollments:\n",
    "    stu = index['account_key']\n",
    "    if stu not in unique_engage:\n",
    "        print index\n",
    "        \n",
    "        break    "
   ]
  },
  {
   "cell_type": "markdown",
   "metadata": {},
   "source": [
    "## Checking for More Problem Records"
   ]
  },
  {
   "cell_type": "code",
   "execution_count": 9,
   "metadata": {},
   "outputs": [
    {
     "data": {
      "text/plain": [
       "3"
      ]
     },
     "execution_count": 9,
     "metadata": {},
     "output_type": "execute_result"
    }
   ],
   "source": [
    "#####################################\n",
    "#                 5                 #\n",
    "#####################################\n",
    "\n",
    "## Find the number of surprising data points (enrollments missing from\n",
    "## the engagement table) that remain, if any.\n",
    "count = 0\n",
    "for index in enrollments:\n",
    "    stu = index['account_key']\n",
    "    if stu not in unique_engage and index['days_to_cancel'] != 0:\n",
    "        ##print index\n",
    "        count += 1\n",
    "count"
   ]
  },
  {
   "cell_type": "markdown",
   "metadata": {},
   "source": [
    "## Tracking Down the Remaining Problems"
   ]
  },
  {
   "cell_type": "code",
   "execution_count": 10,
   "metadata": {},
   "outputs": [
    {
     "data": {
      "text/plain": [
       "6"
      ]
     },
     "execution_count": 10,
     "metadata": {},
     "output_type": "execute_result"
    }
   ],
   "source": [
    "# Create a set of the account keys for all Udacity test accounts\n",
    "udacity_test_accounts = set()\n",
    "for enrollment in enrollments:\n",
    "    if enrollment['is_udacity']:\n",
    "        udacity_test_accounts.add(enrollment['account_key'])\n",
    "len(udacity_test_accounts)"
   ]
  },
  {
   "cell_type": "code",
   "execution_count": 11,
   "metadata": {},
   "outputs": [],
   "source": [
    "# Given some data with an account_key field, removes any records corresponding to Udacity test accounts\n",
    "def remove_udacity_accounts(data):\n",
    "    non_udacity_data = []\n",
    "    for data_point in data:\n",
    "        if data_point['account_key'] not in udacity_test_accounts:\n",
    "            non_udacity_data.append(data_point)\n",
    "    return non_udacity_data"
   ]
  },
  {
   "cell_type": "code",
   "execution_count": 12,
   "metadata": {},
   "outputs": [
    {
     "name": "stdout",
     "output_type": "stream",
     "text": [
      "1622\n",
      "135656\n",
      "3634\n"
     ]
    }
   ],
   "source": [
    "# Remove Udacity test accounts from all three tables\n",
    "non_udacity_enrollments = remove_udacity_accounts(enrollments)\n",
    "non_udacity_engagement = remove_udacity_accounts(daily_engagement)\n",
    "non_udacity_submissions = remove_udacity_accounts(project_submissions)\n",
    "\n",
    "print len(non_udacity_enrollments)\n",
    "print len(non_udacity_engagement)\n",
    "print len(non_udacity_submissions)"
   ]
  },
  {
   "cell_type": "markdown",
   "metadata": {},
   "source": [
    "## Refining the Question"
   ]
  },
  {
   "cell_type": "code",
   "execution_count": 13,
   "metadata": {},
   "outputs": [
    {
     "data": {
      "text/plain": [
       "995"
      ]
     },
     "execution_count": 13,
     "metadata": {},
     "output_type": "execute_result"
    }
   ],
   "source": [
    "#####################################\n",
    "#                 6                 #\n",
    "#####################################\n",
    "\n",
    "## Create a dictionary named paid_students containing all students who either\n",
    "## haven't canceled yet or who remained enrolled for more than 7 days. The keys\n",
    "## should be account keys, and the values should be the date the student enrolled.\n",
    "\n",
    "paid_students = {}\n",
    "\n",
    "for index in non_udacity_enrollments:\n",
    "    if index['days_to_cancel'] == None or index['days_to_cancel'] > 7:\n",
    "        key = index['account_key']\n",
    "        date = index['join_date']\n",
    "        \n",
    "        ## For recent enrollment date\n",
    "        if key not in paid_students or date > paid_students[key]:\n",
    "            paid_students[key] = date\n",
    "\n",
    "\n",
    "len(paid_students)"
   ]
  },
  {
   "cell_type": "markdown",
   "metadata": {},
   "source": [
    "## Getting Data from First Week"
   ]
  },
  {
   "cell_type": "code",
   "execution_count": 14,
   "metadata": {},
   "outputs": [],
   "source": [
    "# Takes a student's join date and the date of a specific engagement record,\n",
    "# and returns True if that engagement record happened within one week\n",
    "# of the student joining.\n",
    "def within_one_week(join_date, engagement_date):\n",
    "    time_delta = engagement_date - join_date\n",
    "    return time_delta.days < 7 and time_delta.days >= 0"
   ]
  },
  {
   "cell_type": "code",
   "execution_count": 15,
   "metadata": {},
   "outputs": [
    {
     "data": {
      "text/plain": [
       "6919"
      ]
     },
     "execution_count": 15,
     "metadata": {},
     "output_type": "execute_result"
    }
   ],
   "source": [
    "#####################################\n",
    "#                 7                 #\n",
    "#####################################\n",
    "\n",
    "## Create a list of rows from the engagement table including only rows where\n",
    "## the student is one of the paid students you just found, and the date is within\n",
    "## one week of the student's join date.\n",
    "\n",
    "paid_engagement_in_first_week = []\n",
    "\n",
    "def remove_trials(filename):\n",
    "    temp = []\n",
    "    for data in filename:\n",
    "        if data['account_key'] in paid_students:\n",
    "            temp.append(data)\n",
    "    return temp\n",
    "\n",
    "\n",
    "paid_enroll = remove_trials(non_udacity_enrollments)\n",
    "paid_engage = remove_trials(non_udacity_engagement)\n",
    "paid_submis = remove_trials(non_udacity_submissions)\n",
    "\n",
    "for elem in paid_engage:\n",
    "    key = elem['account_key']\n",
    "    join = paid_students[key]\n",
    "    record_date = elem['utc_date']\n",
    "    \n",
    "    if within_one_week(join, record_date):\n",
    "        paid_engagement_in_first_week.append(elem)\n",
    "        \n",
    "len(paid_engagement_in_first_week)"
   ]
  },
  {
   "cell_type": "markdown",
   "metadata": {},
   "source": [
    "## Exploring Student Engagement"
   ]
  },
  {
   "cell_type": "code",
   "execution_count": 16,
   "metadata": {},
   "outputs": [
    {
     "data": {
      "text/plain": [
       "\"\\nengagement_by_account = defaultdict(list)\\nfor engagement_record in paid_engagement_in_first_week:\\n    account_key = engagement_record['account_key']\\n    engagement_by_account[account_key].append(engagement_record)\\n\""
      ]
     },
     "execution_count": 16,
     "metadata": {},
     "output_type": "execute_result"
    }
   ],
   "source": [
    "from collections import defaultdict\n",
    "\n",
    "# Create a dictionary of engagement grouped by student.\n",
    "# The keys are account keys, and the values are lists of engagement records.\n",
    "\n",
    "def group_data(table, keyname):\n",
    "    data_group = defaultdict(list)\n",
    "    for record in table:\n",
    "        key = record[keyname]\n",
    "        data_group[key].append(record)\n",
    "    return data_group\n",
    "\n",
    "engagement_by_account = group_data(paid_engagement_in_first_week, 'account_key')\n",
    "\n",
    "\n",
    "'''\n",
    "engagement_by_account = defaultdict(list)\n",
    "for engagement_record in paid_engagement_in_first_week:\n",
    "    account_key = engagement_record['account_key']\n",
    "    engagement_by_account[account_key].append(engagement_record)\n",
    "'''"
   ]
  },
  {
   "cell_type": "code",
   "execution_count": 17,
   "metadata": {},
   "outputs": [
    {
     "data": {
      "text/plain": [
       "\"\\nfor account_key, engagement_for_student in engagement_by_account.items():\\n    total_minutes = 0\\n    for engagement_record in engagement_for_student:\\n        total_minutes += engagement_record['total_minutes_visited']\\n    total_minutes_by_account[account_key] = total_minutes\\n\""
      ]
     },
     "execution_count": 17,
     "metadata": {},
     "output_type": "execute_result"
    }
   ],
   "source": [
    "# Create a dictionary with the total minutes each student spent in the classroom during the first week.\n",
    "# The keys are account keys, and the values are numbers (total minutes)\n",
    "\n",
    "def sum_grouped_items(table, fieldname):\n",
    "    sum_data = {}\n",
    "    for key, record in table.items():\n",
    "        count = 0\n",
    "        for temp in record:\n",
    "            count += temp[fieldname]\n",
    "        sum_data[key] = count\n",
    "    return sum_data\n",
    "\n",
    "total_minutes_by_account = sum_grouped_items(engagement_by_account, 'total_minutes_visited')\n",
    "\n",
    "'''\n",
    "for account_key, engagement_for_student in engagement_by_account.items():\n",
    "    total_minutes = 0\n",
    "    for engagement_record in engagement_for_student:\n",
    "        total_minutes += engagement_record['total_minutes_visited']\n",
    "    total_minutes_by_account[account_key] = total_minutes\n",
    "'''"
   ]
  },
  {
   "cell_type": "code",
   "execution_count": 18,
   "metadata": {},
   "outputs": [
    {
     "name": "stdout",
     "output_type": "stream",
     "text": [
      "Mean: 306.70832675342825\n",
      "Standard deviation: 412.99693340852957\n",
      "Minimum: 0.0\n",
      "Maximum: 3564.7332644989997\n"
     ]
    },
    {
     "data": {
      "text/plain": [
       "\"\\nprint 'Mean:', np.mean(total_minutes)\\nprint 'Standard deviation:', np.std(total_minutes)\\nprint 'Minimum:', np.min(total_minutes)\\nprint 'Maximum:', np.max(total_minutes)\\n\""
      ]
     },
     "execution_count": 18,
     "metadata": {},
     "output_type": "execute_result"
    }
   ],
   "source": [
    "import numpy as np\n",
    "import matplotlib.pyplot as plot\n",
    "# Summarize the data about minutes spent in the classroom\n",
    "def data_stats(tablevalues):\n",
    "    ##total_lectures = tablename.values()\n",
    "    print 'Mean:', np.mean(tablevalues)\n",
    "    print 'Standard deviation:', np.std(tablevalues)\n",
    "    print 'Minimum:', np.min(tablevalues)\n",
    "    print 'Maximum:', np.max(tablevalues)\n",
    "   \n",
    "   \n",
    "    \n",
    "total_minutes = data_stats(total_minutes_by_account.values())\n",
    "\n",
    "'''\n",
    "print 'Mean:', np.mean(total_minutes)\n",
    "print 'Standard deviation:', np.std(total_minutes)\n",
    "print 'Minimum:', np.min(total_minutes)\n",
    "print 'Maximum:', np.max(total_minutes)\n",
    "'''"
   ]
  },
  {
   "cell_type": "markdown",
   "metadata": {},
   "source": [
    "## Debugging Data Analysis Code"
   ]
  },
  {
   "cell_type": "code",
   "execution_count": 19,
   "metadata": {},
   "outputs": [
    {
     "name": "stdout",
     "output_type": "stream",
     "text": [
      "{u'lessons_completed': 4, u'num_courses_visited': 4, u'total_minutes_visited': 850.519339666, u'projects_completed': 0, 'account_key': u'163', u'utc_date': datetime.datetime(2015, 7, 9, 0, 0)}\n",
      "{u'lessons_completed': 6, u'num_courses_visited': 6, u'total_minutes_visited': 872.633923334, u'projects_completed': 0, 'account_key': u'163', u'utc_date': datetime.datetime(2015, 7, 10, 0, 0)}\n",
      "{u'lessons_completed': 6, u'num_courses_visited': 2, u'total_minutes_visited': 777.018903666, u'projects_completed': 0, 'account_key': u'163', u'utc_date': datetime.datetime(2015, 7, 11, 0, 0)}\n",
      "{u'lessons_completed': 2, u'num_courses_visited': 1, u'total_minutes_visited': 294.568774, u'projects_completed': 0, 'account_key': u'163', u'utc_date': datetime.datetime(2015, 7, 12, 0, 0)}\n",
      "{u'lessons_completed': 1, u'num_courses_visited': 3, u'total_minutes_visited': 471.2139785, u'projects_completed': 0, 'account_key': u'163', u'utc_date': datetime.datetime(2015, 7, 13, 0, 0)}\n",
      "{u'lessons_completed': 1, u'num_courses_visited': 2, u'total_minutes_visited': 298.778345333, u'projects_completed': 0, 'account_key': u'163', u'utc_date': datetime.datetime(2015, 7, 14, 0, 0)}\n",
      "{u'lessons_completed': 0, u'num_courses_visited': 0, u'total_minutes_visited': 0.0, u'projects_completed': 0, 'account_key': u'163', u'utc_date': datetime.datetime(2015, 7, 15, 0, 0)}\n"
     ]
    }
   ],
   "source": [
    "#####################################\n",
    "#                 8                 #\n",
    "#####################################\n",
    "\n",
    "## Go through a similar process as before to see if there is a problem.\n",
    "## Locate at least one surprising piece of data, output it, and take a look at it.\n",
    "max_minutes_stu = None\n",
    "max_minutes = 0\n",
    "\n",
    "for stu, time_spent in total_minutes_by_account.items():\n",
    "    if time_spent > max_minutes:\n",
    "        max_minutes = time_spent\n",
    "        max_minutes_stu = stu\n",
    "        \n",
    "for index in paid_engagement_in_first_week:\n",
    "    if index['account_key'] == max_minutes_stu:\n",
    "        print index\n"
   ]
  },
  {
   "cell_type": "markdown",
   "metadata": {},
   "source": [
    "## Lessons Completed in First Week"
   ]
  },
  {
   "cell_type": "code",
   "execution_count": 20,
   "metadata": {},
   "outputs": [
    {
     "name": "stdout",
     "output_type": "stream",
     "text": [
      "Mean: 1.636180904522613\n",
      "Standard deviation: 3.002561299829423\n",
      "Minimum: 0\n",
      "Maximum: 36\n"
     ]
    }
   ],
   "source": [
    "#####################################\n",
    "#                 9                 #\n",
    "#####################################\n",
    "\n",
    "## Adapt the code above to find the mean, standard deviation, minimum, and maximum for\n",
    "## the number of lessons completed by each student during the first week. Try creating\n",
    "## one or more functions to re-use the code above.\n",
    "\n",
    "total_lectures_by_account = sum_grouped_items(engagement_by_account, 'lessons_completed')\n",
    "\n",
    "data_stats(total_lectures_by_account.values())\n"
   ]
  },
  {
   "cell_type": "markdown",
   "metadata": {},
   "source": [
    "## Number of Visits in First Week"
   ]
  },
  {
   "cell_type": "code",
   "execution_count": 21,
   "metadata": {},
   "outputs": [
    {
     "name": "stdout",
     "output_type": "stream",
     "text": [
      "Mean: 3.978894472361809\n",
      "Standard deviation: 3.5912451871028024\n",
      "Minimum: 0\n",
      "Maximum: 25\n"
     ]
    }
   ],
   "source": [
    "######################################\n",
    "#                 10                 #\n",
    "######################################\n",
    "\n",
    "## Find the mean, standard deviation, minimum, and maximum for the number of\n",
    "## days each student visits the classroom during the first week.\n",
    "for record in paid_engage:\n",
    "    if record['num_courses_visited'] > 0:\n",
    "        record['has_visited'] = 1\n",
    "    else:\n",
    "        record['has_visited'] = 0\n",
    "\n",
    "\n",
    "def visited_courses(table, fieldname):\n",
    "    non_zero = {}\n",
    "    for key, record in table.items():\n",
    "        count = 0\n",
    "        for temp in record:\n",
    "            if temp[fieldname] > 0:\n",
    "                count += temp[fieldname]\n",
    "        non_zero[key] = count\n",
    "    return non_zero\n",
    "\n",
    "total_non_zero_visits = visited_courses(engagement_by_account, 'num_courses_visited')\n",
    "\n",
    "visit_stats = data_stats(total_non_zero_visits.values())"
   ]
  },
  {
   "cell_type": "markdown",
   "metadata": {},
   "source": [
    "## Splitting out Passing Students"
   ]
  },
  {
   "cell_type": "code",
   "execution_count": 22,
   "metadata": {},
   "outputs": [
    {
     "name": "stdout",
     "output_type": "stream",
     "text": [
      "647\n",
      "4527\n",
      "2392\n"
     ]
    }
   ],
   "source": [
    "######################################\n",
    "#                 11                 #\n",
    "######################################\n",
    "\n",
    "## Create two lists of engagement data for paid students in the first week.\n",
    "## The first list should contain data for students who eventually pass the\n",
    "## subway project, and the second list should contain data for students\n",
    "## who do not.\n",
    "\n",
    "subway_project_lesson_keys = ['746169184', '3176718735']\n",
    "\n",
    "\n",
    "passed_students = set()\n",
    "failed_students = set()\n",
    "\n",
    "for index in paid_submis:\n",
    "    proj = index['lesson_key']\n",
    "    rate = index['assigned_rating']\n",
    "    \n",
    "    if proj in subway_project_lesson_keys:\n",
    "        if rate == 'PASSED' or rate == 'DISTINCTION':\n",
    "            passed_students.add(index['account_key'])\n",
    "        else:\n",
    "            failed_students.add(index['account_key'])\n",
    "\n",
    "            \n",
    "##projects_by_students \n",
    "print len(passed_students)\n",
    "\n",
    "passing_engagement = []\n",
    "non_passing_engagement = []\n",
    "\n",
    "for record in paid_engagement_in_first_week:\n",
    "    if record['account_key'] in passed_students:\n",
    "        passing_engagement.append(record)\n",
    "    else:\n",
    "        non_passing_engagement.append(record)\n",
    "\n",
    "print len(passing_engagement)\n",
    "print len(non_passing_engagement)"
   ]
  },
  {
   "cell_type": "markdown",
   "metadata": {},
   "source": [
    "## Comparing the Two Student Groups"
   ]
  },
  {
   "cell_type": "code",
   "execution_count": 23,
   "metadata": {},
   "outputs": [],
   "source": [
    "######################################\n",
    "#                 12                 #\n",
    "######################################\n",
    "\n",
    "## Compute some metrics you're interested in and see how they differ for\n",
    "## students who pass the subway project vs. students who don't. A good\n",
    "## starting point would be the metrics we looked at earlier (minutes spent\n",
    "## in the classroom, lessons completed, and days visited).\n",
    "\n",
    "pass_data_group = group_data(passing_engagement, 'account_key')\n",
    "\n",
    "fail_data_group = group_data(non_passing_engagement, 'account_key')\n",
    "\n",
    "minutes_of_passed_students = sum_grouped_items(pass_data_group, 'total_minutes_visited')\n",
    "\n",
    "minutes_of_failed_students = sum_grouped_items(fail_data_group, 'total_minutes_visited')\n",
    "\n",
    "lessons_of_passed_students = sum_grouped_items(pass_data_group, 'lessons_completed')\n",
    "\n",
    "lessons_of_failed_students = sum_grouped_items(fail_data_group, 'lessons_completed')\n",
    "\n",
    "visited_courses_of_passed_students = sum_grouped_items(pass_data_group, 'num_courses_visited')\n",
    "\n",
    "visited_courses_of_failed_students = sum_grouped_items(fail_data_group, 'num_courses_visited')\n",
    "\n"
   ]
  },
  {
   "cell_type": "code",
   "execution_count": 24,
   "metadata": {},
   "outputs": [
    {
     "name": "stdout",
     "output_type": "stream",
     "text": [
      "minutes visited by passed students\n",
      "Mean: 394.58604648350865\n",
      "Standard deviation: 448.4995193265521\n",
      "Minimum: 0.0\n",
      "Maximum: 3564.7332644989997\n",
      "\n",
      "minutes visited by failed students\n",
      "Mean: 143.32647426675584\n",
      "Standard deviation: 269.5386190114951\n",
      "Minimum: 0.0\n",
      "Maximum: 1768.5227493319999\n"
     ]
    }
   ],
   "source": [
    "\n",
    "print \"minutes visited by passed students\"\n",
    "minutes_passed_stats = data_stats(minutes_of_passed_students.values())\n",
    "\n",
    "print \"\\nminutes visited by failed students\"\n",
    "minutes_failed_stats = data_stats(minutes_of_failed_students.values())\n",
    "\n",
    "\n",
    "\n"
   ]
  },
  {
   "cell_type": "code",
   "execution_count": 25,
   "metadata": {},
   "outputs": [
    {
     "name": "stdout",
     "output_type": "stream",
     "text": [
      "\n",
      "lessons completed by passed students\n",
      "Mean: 2.052550231839258\n",
      "Standard deviation: 3.1422270555779344\n",
      "Minimum: 0\n",
      "Maximum: 36\n",
      "\n",
      "lessons completed by failed students\n",
      "Mean: 0.8620689655172413\n",
      "Standard deviation: 2.5491599418312028\n",
      "Minimum: 0\n",
      "Maximum: 27\n"
     ]
    }
   ],
   "source": [
    "print \"\\nlessons completed by passed students\"\n",
    "minutes_passed_stats = data_stats(lessons_of_passed_students.values())\n",
    "print \"\\nlessons completed by failed students\"\n",
    "minutes_failed_stats = data_stats(lessons_of_failed_students.values())\n",
    "\n"
   ]
  },
  {
   "cell_type": "code",
   "execution_count": 26,
   "metadata": {},
   "outputs": [
    {
     "name": "stdout",
     "output_type": "stream",
     "text": [
      "\n",
      "has visited by passed students\n",
      "Mean: 4.726429675425039\n",
      "Standard deviation: 3.7002397793039687\n",
      "Minimum: 0\n",
      "Maximum: 25\n",
      "\n",
      "has visited by failed students\n",
      "Mean: 2.589080459770115\n",
      "Standard deviation: 2.906709690253102\n",
      "Minimum: 0\n",
      "Maximum: 18\n"
     ]
    }
   ],
   "source": [
    "print \"\\nhas visited by passed students\"\n",
    "visited_passed_stats = data_stats(visited_courses_of_passed_students.values())\n",
    "print \"\\nhas visited by failed students\"\n",
    "visited_failed_stats = data_stats(visited_courses_of_failed_students.values())\n",
    "\n"
   ]
  },
  {
   "cell_type": "markdown",
   "metadata": {},
   "source": [
    "## Making Histograms"
   ]
  },
  {
   "cell_type": "code",
   "execution_count": 27,
   "metadata": {},
   "outputs": [
    {
     "data": {
      "text/plain": [
       "(array([370., 155.,  83.,  19.,  10.,   4.,   2.,   3.,   0.,   1.]),\n",
       " array([   0.        ,  356.47332645,  712.9466529 , 1069.41997935,\n",
       "        1425.8933058 , 1782.36663225, 2138.8399587 , 2495.31328515,\n",
       "        2851.7866116 , 3208.25993805, 3564.7332645 ]),\n",
       " <a list of 10 Patch objects>)"
      ]
     },
     "execution_count": 27,
     "metadata": {},
     "output_type": "execute_result"
    },
    {
     "data": {
      "image/png": "[encoded data removed]",
      "text/plain": [
       "<Figure size 432x288 with 1 Axes>"
      ]
     },
     "metadata": {},
     "output_type": "display_data"
    }
   ],
   "source": [
    "######################################\n",
    "#                 13                 #\n",
    "######################################\n",
    "\n",
    "## Make histograms of the three metrics we looked at earlier for both\n",
    "## students who passed the subway project and students who didn't. You\n",
    "## might also want to make histograms of any other metrics you examined.\n",
    "'''\n",
    "print \"minutes visited by passed students\"\n",
    "minutes_passed_stats = data_stats(minutes_of_passed_students.values())\n",
    "print \"\\nminutes visited by failed students\"\n",
    "minutes_failed_stats = data_stats(minutes_of_failed_students.values())\n",
    "'''\n",
    "\n",
    "plot.title('Minutes of passed students')\n",
    "plot.xlabel('No. of minutes spent')\n",
    "plot.hist(minutes_of_passed_students.values())\n"
   ]
  },
  {
   "cell_type": "code",
   "execution_count": 28,
   "metadata": {},
   "outputs": [
    {
     "data": {
      "text/plain": [
       "(array([272.,  34.,  17.,   9.,   6.,   2.,   1.,   5.,   0.,   2.]),\n",
       " array([   0.        ,  176.85227493,  353.70454987,  530.5568248 ,\n",
       "         707.40909973,  884.26137467, 1061.1136496 , 1237.96592453,\n",
       "        1414.81819947, 1591.6704744 , 1768.52274933]),\n",
       " <a list of 10 Patch objects>)"
      ]
     },
     "execution_count": 28,
     "metadata": {},
     "output_type": "execute_result"
    },
    {
     "data": {
      "image/png": "[encoded data removed]",
      "text/plain": [
       "<Figure size 432x288 with 1 Axes>"
      ]
     },
     "metadata": {},
     "output_type": "display_data"
    }
   ],
   "source": [
    "plot.title('Minutes of failed students')\n",
    "plot.xlabel('No. of minutes spent')\n",
    "plot.hist(minutes_of_failed_students.values())"
   ]
  },
  {
   "cell_type": "code",
   "execution_count": 29,
   "metadata": {},
   "outputs": [
    {
     "data": {
      "text/plain": [
       "(array([516.,  97.,  23.,   4.,   3.,   3.,   0.,   0.,   0.,   1.]),\n",
       " array([ 0. ,  3.6,  7.2, 10.8, 14.4, 18. , 21.6, 25.2, 28.8, 32.4, 36. ]),\n",
       " <a list of 10 Patch objects>)"
      ]
     },
     "execution_count": 29,
     "metadata": {},
     "output_type": "execute_result"
    },
    {
     "data": {
      "image/png": "[encoded data removed]",
      "text/plain": [
       "<Figure size 432x288 with 1 Axes>"
      ]
     },
     "metadata": {},
     "output_type": "display_data"
    }
   ],
   "source": [
    "plot.title('lessons completed by passed students')\n",
    "plot.xlabel('No. of lessons completed')\n",
    "plot.hist(lessons_of_passed_students.values())"
   ]
  },
  {
   "cell_type": "code",
   "execution_count": 30,
   "metadata": {},
   "outputs": [
    {
     "data": {
      "text/plain": [
       "(array([317.,  17.,   6.,   4.,   1.,   1.,   0.,   1.,   0.,   1.]),\n",
       " array([ 0. ,  2.7,  5.4,  8.1, 10.8, 13.5, 16.2, 18.9, 21.6, 24.3, 27. ]),\n",
       " <a list of 10 Patch objects>)"
      ]
     },
     "execution_count": 30,
     "metadata": {},
     "output_type": "execute_result"
    },
    {
     "data": {
      "image/png": "[encoded data removed]",
      "text/plain": [
       "<Figure size 432x288 with 1 Axes>"
      ]
     },
     "metadata": {},
     "output_type": "display_data"
    }
   ],
   "source": [
    "plot.title('lessons completed by failed students')\n",
    "plot.xlabel('No. of lessons completed')\n",
    "plot.hist(lessons_of_failed_students.values())"
   ]
  },
  {
   "cell_type": "code",
   "execution_count": 31,
   "metadata": {},
   "outputs": [
    {
     "data": {
      "text/plain": [
       "(array([207., 116., 186.,  85.,  37.,   6.,   5.,   2.,   1.,   2.]),\n",
       " array([ 0. ,  2.5,  5. ,  7.5, 10. , 12.5, 15. , 17.5, 20. , 22.5, 25. ]),\n",
       " <a list of 10 Patch objects>)"
      ]
     },
     "execution_count": 31,
     "metadata": {},
     "output_type": "execute_result"
    },
    {
     "data": {
      "image/png": "[encoded data removed]",
      "text/plain": [
       "<Figure size 432x288 with 1 Axes>"
      ]
     },
     "metadata": {},
     "output_type": "display_data"
    }
   ],
   "source": [
    "plot.title('courses visited by passed students')\n",
    "plot.xlabel('No. of courses visited')\n",
    "plot.hist(visited_courses_of_passed_students.values())"
   ]
  },
  {
   "cell_type": "code",
   "execution_count": 32,
   "metadata": {},
   "outputs": [
    {
     "data": {
      "text/plain": [
       "(array([165.,  88.,  39.,  29.,  10.,  11.,   4.,   1.,   0.,   1.]),\n",
       " array([ 0. ,  1.8,  3.6,  5.4,  7.2,  9. , 10.8, 12.6, 14.4, 16.2, 18. ]),\n",
       " <a list of 10 Patch objects>)"
      ]
     },
     "execution_count": 32,
     "metadata": {},
     "output_type": "execute_result"
    },
    {
     "data": {
      "image/png": "[encoded data removed]",
      "text/plain": [
       "<Figure size 432x288 with 1 Axes>"
      ]
     },
     "metadata": {},
     "output_type": "display_data"
    }
   ],
   "source": [
    "plot.title('courses visited by failed students')\n",
    "plot.xlabel('No. of courses visited')\n",
    "plot.hist(visited_courses_of_failed_students.values())"
   ]
  },
  {
   "cell_type": "markdown",
   "metadata": {},
   "source": [
    "## Improving Plots and Sharing Findings"
   ]
  },
  {
   "cell_type": "code",
   "execution_count": 33,
   "metadata": {},
   "outputs": [
    {
     "data": {
      "text/plain": [
       "Text(0.5,1,'lessons completed by passed students')"
      ]
     },
     "execution_count": 33,
     "metadata": {},
     "output_type": "execute_result"
    },
    {
     "data": {
      "image/png": "[encoded data removed]",
      "text/plain": [
       "<Figure size 432x288 with 1 Axes>"
      ]
     },
     "metadata": {},
     "output_type": "display_data"
    }
   ],
   "source": [
    "######################################\n",
    "#                 14                 #\n",
    "######################################\n",
    "\n",
    "## Make a more polished version of at least one of your visualizations\n",
    "## from earlier. Try importing the seaborn library to make the visualization\n",
    "## look better, adding axis labels and a title, and changing one or more\n",
    "## arguments to the hist() function.\n",
    "\n",
    "import seaborn as sns\n",
    "\n",
    "plot.hist(lessons_of_passed_students.values(), bins = 12)\n",
    "plot.xlabel('No. of lessons completed')\n",
    "plot.title('lessons completed by passed students')"
   ]
  }
 ],
 "metadata": {
  "kernelspec": {
   "display_name": "Python 2",
   "language": "python",
   "name": "python2"
  },
  "language_info": {
   "codemirror_mode": {
    "name": "ipython",
    "version": 2
   },
   "file_extension": ".py",
   "mimetype": "text/x-python",
   "name": "python",
   "nbconvert_exporter": "python",
   "pygments_lexer": "ipython2",
   "version": "2.7.15"
  }
 },
 "nbformat": 4,
 "nbformat_minor": 1
}
